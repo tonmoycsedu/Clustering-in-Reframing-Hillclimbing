{
 "cells": [
  {
   "cell_type": "code",
   "execution_count": 18,
   "metadata": {
    "collapsed": true
   },
   "outputs": [],
   "source": [
    "#function to write in csv\n",
    "import csv\n",
    "def write_list_in_file(final, name):\n",
    "    with open(name, \"w\", newline=\"\",encoding=\"utf8\") as fp:\n",
    "        a = csv.writer(fp, delimiter=',')\n",
    "        a.writerows(final)\n"
   ]
  },
  {
   "cell_type": "code",
   "execution_count": 19,
   "metadata": {
    "collapsed": true
   },
   "outputs": [],
   "source": [
    "#Function to read csv files\n",
    "from csv import reader\n",
    "# Load a CSV file\\n\",\n",
    "def load_csv(filename):\n",
    "    dataset = list()\n",
    "    with open(filename, 'r') as file:\n",
    "        csv_reader = reader(file)\n",
    "        for row in csv_reader:\n",
    "            if not row:\n",
    "                continue\n",
    "            dataset.append(row)\n",
    "    return dataset\n"
   ]
  },
  {
   "cell_type": "code",
   "execution_count": 20,
   "metadata": {},
   "outputs": [
    {
     "name": "stdout",
     "output_type": "stream",
     "text": [
      "[[ 0.22309403  0.22124276  0.494288    0.22564246]\n",
      " [ 0.31731571  0.32117916  0.75579611  0.17903213]\n",
      " [ 0.40147874  0.3956713   0.49023674  0.24610212]]\n",
      "4.41116355823\n"
     ]
    }
   ],
   "source": [
    "import numpy as np\n",
    "from sklearn.cluster import KMeans\n",
    "\n",
    "base_data = load_csv('season1.csv')    \n",
    "X = np.array(base_data[1:])\n",
    "\n",
    "cluster_num = 3\n",
    "\n",
    "kmeans = KMeans(n_clusters=cluster_num)\n",
    "kmeans.fit(X)\n",
    "\n",
    "base_centroids = kmeans.cluster_centers_\n",
    "#labels = kmeans.labels_\n",
    "    \n",
    "print(kmeans.cluster_centers_)\n",
    "print(kmeans.inertia_)"
   ]
  },
  {
   "cell_type": "code",
   "execution_count": 21,
   "metadata": {
    "collapsed": true
   },
   "outputs": [],
   "source": [
    "elements = [10,20,30,40,50]"
   ]
  },
  {
   "cell_type": "code",
   "execution_count": 22,
   "metadata": {},
   "outputs": [
    {
     "name": "stdout",
     "output_type": "stream",
     "text": [
      "5.38536744831\n",
      "5.84911458257\n",
      "5.62569202857\n",
      "4.9141645374\n",
      "5.00657104231\n"
     ]
    },
    {
     "name": "stderr",
     "output_type": "stream",
     "text": [
      "/home/tonmoy/anaconda3/lib/python3.6/site-packages/sklearn/cluster/k_means_.py:889: RuntimeWarning: Explicit initial center position passed: performing only one init in k-means instead of n_init=10\n",
      "  return_n_iter=True)\n"
     ]
    }
   ],
   "source": [
    "target_data = load_csv('season2.csv')\n",
    "retrained_centroids= []\n",
    "\n",
    "for n in elements:\n",
    "\n",
    "    X = np.array(target_data[1:n+1])\n",
    "    kmeans = KMeans(n_clusters=cluster_num, init=base_centroids)\n",
    "    kmeans.fit(X)\n",
    "\n",
    "    retrained_centroids.append(kmeans.cluster_centers_)\n",
    "    #labels = kmeans.labels_\n",
    "\n",
    "    #print(kmeans.cluster_centers_)\n",
    "    #print(kmeans.inertia_)\n",
    "    X = np.array(target_data[1:])\n",
    "    kmeans = KMeans(n_clusters=cluster_num, init=kmeans.cluster_centers_, max_iter=1)\n",
    "    kmeans.fit(X)\n",
    "\n",
    "    #target_centroids = kmeans.cluster_centers_\n",
    "    #labels = kmeans.labels_\n",
    "\n",
    "    #print(kmeans.cluster_centers_)\n",
    "    print(kmeans.inertia_)"
   ]
  },
  {
   "cell_type": "code",
   "execution_count": null,
   "metadata": {
    "collapsed": true
   },
   "outputs": [],
   "source": []
  }
 ],
 "metadata": {
  "kernelspec": {
   "display_name": "Python 3",
   "language": "python",
   "name": "python3"
  },
  "language_info": {
   "codemirror_mode": {
    "name": "ipython",
    "version": 3
   },
   "file_extension": ".py",
   "mimetype": "text/x-python",
   "name": "python",
   "nbconvert_exporter": "python",
   "pygments_lexer": "ipython3",
   "version": "3.6.1"
  }
 },
 "nbformat": 4,
 "nbformat_minor": 2
}
