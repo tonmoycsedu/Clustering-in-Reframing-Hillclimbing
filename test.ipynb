{
 "cells": [
  {
   "cell_type": "code",
   "execution_count": 1,
   "metadata": {},
   "outputs": [
    {
     "name": "stderr",
     "output_type": "stream",
     "text": [
      "c:\\users\\user\\appdata\\local\\programs\\python\\python36-32\\lib\\site-packages\\sklearn\\utils\\validation.py:475: DataConversionWarning: Data with input dtype int32 was converted to float64 by MinMaxScaler.\n",
      "  warnings.warn(msg, DataConversionWarning)\n"
     ]
    }
   ],
   "source": [
    "from sklearn.preprocessing import MinMaxScaler\n",
    "import numpy as np\n",
    "\n",
    "base = np.array([[20],[30],[50],[120],[22],[63],[102],[34],[87],[12],[25],[128],[23],[77],[56]])\n",
    "target = np.array([[50],[70],[110],[250],[54],[136],[214],[78],[184],[34],[60],[266],[56],[166],[122]])\n",
    "scaler = MinMaxScaler()\n",
    "base_scaled = scaler.fit_transform(base)\n",
    "base_unscaled = scaler.inverse_transform(base_scaled)\n",
    "\n",
    "target_scaled = scaler.fit_transform(target[:5])\n",
    "target_unscaled = scaler.inverse_transform(target_scaled)\n",
    "\n",
    "num_clusters = 3\n",
    "#print(target_scaled)"
   ]
  },
  {
   "cell_type": "code",
   "execution_count": 2,
   "metadata": {},
   "outputs": [
    {
     "name": "stdout",
     "output_type": "stream",
     "text": [
      "[[0.47068966]\n",
      " [0.10098522]\n",
      " [0.90229885]]\n",
      "0.1175159956967329\n"
     ]
    }
   ],
   "source": [
    "\n",
    "from sklearn.cluster import KMeans\n",
    "\n",
    "kmeans = KMeans(n_clusters=3)\n",
    "kmeans.fit(base_scaled)\n",
    "\n",
    "base_centroids = kmeans.cluster_centers_\n",
    "#labels = kmeans.labels_\n",
    "    \n",
    "print(kmeans.cluster_centers_)\n",
    "print(kmeans.inertia_)"
   ]
  },
  {
   "cell_type": "code",
   "execution_count": 3,
   "metadata": {},
   "outputs": [],
   "source": [
    "def cal_centroids(alpha,beta):\n",
    "\n",
    "    target_centroids = []\n",
    "    for i in range(len(base_centroids)):\n",
    "        val = alpha*base_centroids[i][0] + beta\n",
    "        target_centroids.append([val])\n",
    "\n",
    "    target_centroids = np.array(target_centroids)\n",
    "    print(target_centroids)\n",
    "    return target_centroids\n",
    "    #print(target_centroids)"
   ]
  },
  {
   "cell_type": "code",
   "execution_count": 10,
   "metadata": {},
   "outputs": [],
   "source": [
    "def cal_gradient():\n",
    "    gradient_alpha = 0\n",
    "    gradient_beta = 0\n",
    "    for i in range(0,3):\n",
    "        gradient = 0\n",
    "        print(reframed_centroids[i][0])\n",
    "        print(centroids[i])\n",
    "        for member in clusters[i]:\n",
    "            print(member[0])\n",
    "            gradient = reframed_centroids[i][0] - member[0]\n",
    "\n",
    "        gradient_alpha = gradient_alpha + gradient*reframed_centroids[i][0]\n",
    "        gradient_beta = gradient_beta + gradient\n",
    "        print(clusters[i])\n",
    "        print(gradient_alpha)\n",
    "        print(gradient_beta)\n",
    "        print(\"******\")"
   ]
  },
  {
   "cell_type": "code",
   "execution_count": 5,
   "metadata": {},
   "outputs": [
    {
     "name": "stdout",
     "output_type": "stream",
     "text": [
      "1.4739737274220033 1.4200000000000002\n",
      "1.7300161119976563\n"
     ]
    }
   ],
   "source": [
    "sum_m = 0\n",
    "sum_d = 0\n",
    "for i in range(len(base_centroids)):\n",
    "    sum_m = sum_m + base_centroids[i][0]\n",
    "    \n",
    "avg_m = sum_m/len(base_centroids)\n",
    "\n",
    "for i in range(len(target_scaled)):\n",
    "    sum_d = sum_d + target_scaled[i][0]\n",
    "\n",
    "print(sum_m,sum_d)\n",
    "avg_d = sum_d/len(target_scaled)\n",
    "\n",
    "alpha = avg_m/avg_d\n",
    "beta = 0\n",
    "print(alpha)\n",
    "        \n"
   ]
  },
  {
   "cell_type": "code",
   "execution_count": 6,
   "metadata": {},
   "outputs": [
    {
     "name": "stdout",
     "output_type": "stream",
     "text": [
      "[[0.81430069]\n",
      " [0.17470606]\n",
      " [1.56099155]]\n",
      "0.05630000000000002\n"
     ]
    },
    {
     "name": "stderr",
     "output_type": "stream",
     "text": [
      "c:\\users\\user\\appdata\\local\\programs\\python\\python36-32\\lib\\site-packages\\sklearn\\cluster\\k_means_.py:896: RuntimeWarning: Explicit initial center position passed: performing only one init in k-means instead of n_init=10\n",
      "  return_n_iter=True)\n"
     ]
    }
   ],
   "source": [
    "reframed_centroids =  cal_centroids(alpha,beta)\n",
    "kmeans = KMeans(n_clusters=num_clusters, init=reframed_centroids, max_iter=1)\n",
    "kmeans.fit(target_scaled)\n",
    "old_error = kmeans.inertia_\n",
    "print(old_error)\n",
    "\n",
    "# while(1):\n",
    "    \n",
    "#     alpha = alpha - 0.01*\n",
    "#     beta = beta + 1\n",
    "#     kmeans = KMeans(n_clusters=num_clusters, init=cal_parameters(alpha,beta), max_iter=1)\n",
    "#     kmeans.fit(target_unscaled)\n",
    "#     new_error = kmeans.inertia_\n",
    "#     print(old_error,new_error)\n",
    "#     if(new_error < old_error):\n",
    "#         old_error = new_error\n",
    "                \n",
    "#     else:\n",
    "#         break;\n",
    "    \n",
    "    \n",
    "\n",
    "#     #base_centroids = kmeans.cluster_centers_\n",
    "#     #labels = kmeans.labels_\n",
    "\n",
    "#     #print(kmeans.cluster_centers_)\n",
    "#     print(old_error,new_error)"
   ]
  },
  {
   "cell_type": "code",
   "execution_count": 7,
   "metadata": {},
   "outputs": [
    {
     "name": "stdout",
     "output_type": "stream",
     "text": [
      "0.8143006871988968\n",
      "[1.]\n",
      "1.0\n",
      "[array([1.])]\n",
      "-0.15121507802630121\n",
      "-0.1856993128011032\n",
      "******\n",
      "0.17470606057119187\n",
      "[0.105]\n",
      "0.0\n",
      "0.10000000000000003\n",
      "0.30000000000000004\n",
      "0.020000000000000018\n",
      "[array([0.]), array([0.1]), array([0.3]), array([0.02])]\n",
      "-0.12418699163742009\n",
      "-0.03099325222991134\n",
      "******\n",
      "1.5609915493312188\n",
      "[1.]\n",
      "[]\n",
      "-0.12418699163742009\n",
      "-0.03099325222991134\n",
      "******\n"
     ]
    }
   ],
   "source": [
    "from collections import Counter\n",
    "\n",
    "centroids = kmeans.cluster_centers_\n",
    "labels = kmeans.labels_\n",
    "\n",
    "c = Counter(labels)\n",
    "\n",
    "clusters = []\n",
    "for i in range(0,3):\n",
    "    clusters.append([])\n",
    "    \n",
    "#print(kmeans.cluster_centers_)\n",
    "for i in range(len(target_scaled)):\n",
    "    #print(\"coordinate:\",X[i], \"label:\", labels[i], \"keyword:\", keywords[i])\n",
    "    clusters[labels[i]].append(target_scaled[i])\n",
    "\n",
    "#unscaled_centroids = scaler.inverse_transform(centroids)\n",
    "gradient_alpha = 0\n",
    "gradient_beta = 0\n",
    "for i in range(0,3):\n",
    "    gradient = 0\n",
    "    print(reframed_centroids[i][0])\n",
    "    print(centroids[i])\n",
    "    for member in clusters[i]:\n",
    "        print(member[0])\n",
    "        gradient = reframed_centroids[i][0] - member[0]\n",
    "    \n",
    "    gradient_alpha = gradient_alpha + gradient*reframed_centroids[i][0]\n",
    "    gradient_beta = gradient_beta + gradient\n",
    "    print(clusters[i])\n",
    "    print(gradient_alpha)\n",
    "    print(gradient_beta)\n",
    "    print(\"******\")"
   ]
  },
  {
   "cell_type": "code",
   "execution_count": 8,
   "metadata": {},
   "outputs": [
    {
     "name": "stdout",
     "output_type": "stream",
     "text": [
      "1.8542031036350763 0.03099325222991134\n"
     ]
    }
   ],
   "source": [
    "alpha = alpha-1*gradient_alpha\n",
    "beta = beta-1*gradient_beta\n",
    "print(alpha,beta)"
   ]
  },
  {
   "cell_type": "code",
   "execution_count": 9,
   "metadata": {},
   "outputs": [
    {
     "name": "stdout",
     "output_type": "stream",
     "text": [
      "[[0.90374747]\n",
      " [0.21824036]\n",
      " [1.70403858]]\n",
      "0.03845\n"
     ]
    },
    {
     "name": "stderr",
     "output_type": "stream",
     "text": [
      "c:\\users\\user\\appdata\\local\\programs\\python\\python36-32\\lib\\site-packages\\sklearn\\cluster\\k_means_.py:896: RuntimeWarning: Explicit initial center position passed: performing only one init in k-means instead of n_init=10\n",
      "  return_n_iter=True)\n"
     ]
    }
   ],
   "source": [
    "reframed_centroids =  cal_centroids(alpha,beta)\n",
    "kmeans = KMeans(n_clusters=num_clusters, init=reframed_centroids, max_iter=1)\n",
    "kmeans.fit(target_scaled)\n",
    "old_error = kmeans.inertia_\n",
    "print(old_error)"
   ]
  },
  {
   "cell_type": "code",
   "execution_count": null,
   "metadata": {
    "collapsed": true
   },
   "outputs": [],
   "source": []
  }
 ],
 "metadata": {
  "kernelspec": {
   "display_name": "Python 3",
   "language": "python",
   "name": "python3"
  },
  "language_info": {
   "codemirror_mode": {
    "name": "ipython",
    "version": 3
   },
   "file_extension": ".py",
   "mimetype": "text/x-python",
   "name": "python",
   "nbconvert_exporter": "python",
   "pygments_lexer": "ipython3",
   "version": "3.6.5"
  }
 },
 "nbformat": 4,
 "nbformat_minor": 2
}
