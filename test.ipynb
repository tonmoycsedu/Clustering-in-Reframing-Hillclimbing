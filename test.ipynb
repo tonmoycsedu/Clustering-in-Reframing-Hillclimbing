{
 "cells": [
  {
   "cell_type": "code",
   "execution_count": 12,
   "metadata": {},
   "outputs": [
    {
     "name": "stderr",
     "output_type": "stream",
     "text": [
      "/home/tonmoy/anaconda3/lib/python3.6/site-packages/sklearn/utils/validation.py:429: DataConversionWarning: Data with input dtype int64 was converted to float64 by MinMaxScaler.\n",
      "  warnings.warn(msg, _DataConversionWarning)\n"
     ]
    }
   ],
   "source": [
    "from sklearn.preprocessing import MinMaxScaler\n",
    "import numpy as np\n",
    "\n",
    "base = np.array([[20],[30],[50],[120],[22],[63],[102],[34],[87],[12],[25],[128],[23],[77],[56]])\n",
    "target = np.array([[50],[70],[110],[250],[54],[136],[214],[78],[184],[34],[60],[266],[56],[166],[122]])\n",
    "scaler = MinMaxScaler()\n",
    "base_scaled = scaler.fit_transform(base)\n",
    "base_unscaled = scaler.inverse_transform(base_scaled)\n",
    "\n",
    "target_scaled = scaler.fit_transform(target[:5])\n",
    "target_unscaled = scaler.inverse_transform(target_scaled)\n",
    "\n",
    "num_clusters = 3\n",
    "#print(target_scaled)"
   ]
  },
  {
   "cell_type": "code",
   "execution_count": 20,
   "metadata": {},
   "outputs": [
    {
     "name": "stdout",
     "output_type": "stream",
     "text": [
      "[[ 0.47068966]\n",
      " [ 0.10098522]\n",
      " [ 0.90229885]]\n",
      "0.117515995697\n"
     ]
    }
   ],
   "source": [
    "\n",
    "from sklearn.cluster import KMeans\n",
    "\n",
    "kmeans = KMeans(n_clusters=3)\n",
    "kmeans.fit(base_scaled)\n",
    "\n",
    "base_centroids = kmeans.cluster_centers_\n",
    "#labels = kmeans.labels_\n",
    "    \n",
    "print(kmeans.cluster_centers_)\n",
    "print(kmeans.inertia_)"
   ]
  },
  {
   "cell_type": "code",
   "execution_count": 21,
   "metadata": {
    "collapsed": true
   },
   "outputs": [],
   "source": [
    "def cal_centroids(alpha,beta):\n",
    "\n",
    "    target_centroids = []\n",
    "    for i in range(len(base_centroids)):\n",
    "        val = alpha*base_centroids[i][0] + beta\n",
    "        target_centroids.append([val])\n",
    "\n",
    "    target_centroids = np.array(target_centroids)\n",
    "    return target_centroids\n",
    "    #print(target_centroids)"
   ]
  },
  {
   "cell_type": "code",
   "execution_count": 22,
   "metadata": {},
   "outputs": [
    {
     "ename": "SyntaxError",
     "evalue": "unexpected EOF while parsing (<ipython-input-22-96e2af2db05b>, line 1)",
     "output_type": "error",
     "traceback": [
      "\u001b[0;36m  File \u001b[0;32m\"<ipython-input-22-96e2af2db05b>\"\u001b[0;36m, line \u001b[0;32m1\u001b[0m\n\u001b[0;31m    def cal_gradient():\u001b[0m\n\u001b[0m                       ^\u001b[0m\n\u001b[0;31mSyntaxError\u001b[0m\u001b[0;31m:\u001b[0m unexpected EOF while parsing\n"
     ]
    }
   ],
   "source": [
    "def cal_gradient():"
   ]
  },
  {
   "cell_type": "code",
   "execution_count": 23,
   "metadata": {},
   "outputs": [
    {
     "name": "stdout",
     "output_type": "stream",
     "text": [
      "1.47397372742 1.42\n",
      "0.578029298724\n"
     ]
    }
   ],
   "source": [
    "sum_m = 0\n",
    "sum_d = 0\n",
    "for i in range(len(base_centroids)):\n",
    "    sum_m = sum_m + base_centroids[i][0]\n",
    "    \n",
    "avg_m = sum_m/len(base_centroids)\n",
    "\n",
    "for i in range(len(target_scaled)):\n",
    "    sum_d = sum_d + target_scaled[i][0]\n",
    "\n",
    "print(sum_m,sum_d)\n",
    "avg_d = sum_d/len(target_scaled)\n",
    "\n",
    "alpha = avg_d/avg_m\n",
    "beta = 0\n",
    "print(alpha)\n",
    "        \n"
   ]
  },
  {
   "cell_type": "code",
   "execution_count": 24,
   "metadata": {},
   "outputs": [
    {
     "name": "stderr",
     "output_type": "stream",
     "text": [
      "/home/tonmoy/anaconda3/lib/python3.6/site-packages/sklearn/cluster/k_means_.py:889: RuntimeWarning: Explicit initial center position passed: performing only one init in k-means instead of n_init=10\n",
      "  return_n_iter=True)\n"
     ]
    }
   ],
   "source": [
    "kmeans = KMeans(n_clusters=num_clusters, init=cal_centroids(alpha,beta), max_iter=1)\n",
    "kmeans.fit(target_scaled)\n",
    "old_error = kmeans.inertia_\n",
    "\n",
    "# while(1):\n",
    "    \n",
    "#     alpha = alpha - 0.01*\n",
    "#     beta = beta + 1\n",
    "#     kmeans = KMeans(n_clusters=num_clusters, init=cal_parameters(alpha,beta), max_iter=1)\n",
    "#     kmeans.fit(target_unscaled)\n",
    "#     new_error = kmeans.inertia_\n",
    "#     print(old_error,new_error)\n",
    "#     if(new_error < old_error):\n",
    "#         old_error = new_error\n",
    "                \n",
    "#     else:\n",
    "#         break;\n",
    "    \n",
    "    \n",
    "\n",
    "#     #base_centroids = kmeans.cluster_centers_\n",
    "#     #labels = kmeans.labels_\n",
    "\n",
    "#     #print(kmeans.cluster_centers_)\n",
    "#     print(old_error,new_error)"
   ]
  },
  {
   "cell_type": "code",
   "execution_count": 25,
   "metadata": {},
   "outputs": [
    {
     "name": "stdout",
     "output_type": "stream",
     "text": [
      "[ 0.3]\n",
      "[array([ 0.3])]\n",
      "******\n",
      "[ 0.04]\n",
      "[array([ 0.]), array([ 0.1]), array([ 0.02])]\n",
      "******\n",
      "[ 1.]\n",
      "[array([ 1.])]\n",
      "******\n"
     ]
    }
   ],
   "source": [
    "from collections import Counter\n",
    "\n",
    "centroids = kmeans.cluster_centers_\n",
    "labels = kmeans.labels_\n",
    "\n",
    "c = Counter(labels)\n",
    "\n",
    "clusters = []\n",
    "for i in range(0,3):\n",
    "    clusters.append([])\n",
    "    \n",
    "#print(kmeans.cluster_centers_)\n",
    "for i in range(len(target_scaled)):\n",
    "    #print(\"coordinate:\",X[i], \"label:\", labels[i], \"keyword:\", keywords[i])\n",
    "    clusters[labels[i]].append(target_scaled[i])\n",
    "\n",
    "#unscaled_centroids = scaler.inverse_transform(centroids)\n",
    "for i in range(0,3):\n",
    "    print(centroids[i])\n",
    "    print(clusters[i])\n",
    "    print(\"******\")"
   ]
  },
  {
   "cell_type": "code",
   "execution_count": null,
   "metadata": {
    "collapsed": true
   },
   "outputs": [],
   "source": []
  }
 ],
 "metadata": {
  "kernelspec": {
   "display_name": "Python 3",
   "language": "python",
   "name": "python3"
  },
  "language_info": {
   "codemirror_mode": {
    "name": "ipython",
    "version": 3
   },
   "file_extension": ".py",
   "mimetype": "text/x-python",
   "name": "python",
   "nbconvert_exporter": "python",
   "pygments_lexer": "ipython3",
   "version": "3.6.1"
  }
 },
 "nbformat": 4,
 "nbformat_minor": 2
}
