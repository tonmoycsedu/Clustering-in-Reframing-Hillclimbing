{
 "cells": [
  {
   "cell_type": "code",
   "execution_count": 21,
   "metadata": {},
   "outputs": [
    {
     "name": "stderr",
     "output_type": "stream",
     "text": [
      "/home/tonmoy/anaconda3/lib/python3.6/site-packages/sklearn/utils/validation.py:429: DataConversionWarning: Data with input dtype int64 was converted to float64 by MinMaxScaler.\n",
      "  warnings.warn(msg, _DataConversionWarning)\n"
     ]
    }
   ],
   "source": [
    "from sklearn.preprocessing import MinMaxScaler\n",
    "import numpy as np\n",
    "\n",
    "base = np.array([[20],[30],[50],[120],[22],[63],[102],[34],[87],[12],[25],[128],[23],[77],[56]])\n",
    "target = np.array([[50],[70],[110],[250],[54],[136],[214],[78],[184],[34],[60],[266],[56],[166],[122]])\n",
    "scaler = MinMaxScaler()\n",
    "base_scaled = scaler.fit_transform(base)\n",
    "base_unscaled = scaler.inverse_transform(base_scaled)\n",
    "\n",
    "target_scaled = scaler.fit_transform(target[:5])\n",
    "target_unscaled = scaler.inverse_transform(target_scaled)\n",
    "\n",
    "num_clusters = 3\n",
    "#print(target_scaled)"
   ]
  },
  {
   "cell_type": "code",
   "execution_count": 22,
   "metadata": {},
   "outputs": [
    {
     "name": "stdout",
     "output_type": "stream",
     "text": [
      "[[ 0.10098522]\n",
      " [ 0.90229885]\n",
      " [ 0.47068966]]\n",
      "0.117515995697\n"
     ]
    }
   ],
   "source": [
    "\n",
    "from sklearn.cluster import KMeans\n",
    "\n",
    "kmeans = KMeans(n_clusters=3)\n",
    "kmeans.fit(base_scaled)\n",
    "\n",
    "base_centroids = kmeans.cluster_centers_\n",
    "#labels = kmeans.labels_\n",
    "    \n",
    "print(kmeans.cluster_centers_)\n",
    "print(kmeans.inertia_)"
   ]
  },
  {
   "cell_type": "code",
   "execution_count": 23,
   "metadata": {
    "collapsed": true
   },
   "outputs": [],
   "source": [
    "def cal_centroids(alpha,beta):\n",
    "\n",
    "    target_centroids = []\n",
    "    for i in range(len(base_centroids)):\n",
    "        val = alpha*base_centroids[i][0] + beta\n",
    "        target_centroids.append([val])\n",
    "\n",
    "    target_centroids = np.array(target_centroids)\n",
    "    print(\"new centroids: \", target_centroids)\n",
    "    return target_centroids\n",
    "    #print(target_centroids)"
   ]
  },
  {
   "cell_type": "code",
   "execution_count": 40,
   "metadata": {
    "collapsed": true
   },
   "outputs": [],
   "source": [
    "import numpy as np\n",
    "def find_nearest(array, value):\n",
    "    array = np.asarray(array)\n",
    "    idx = (np.abs(array - value)).argmin()\n",
    "    return idx"
   ]
  },
  {
   "cell_type": "code",
   "execution_count": 42,
   "metadata": {},
   "outputs": [],
   "source": [
    "# def closest_centroids(old_centroids,new_centroids):\n",
    "#     final_centroids = np.zeros(num_clusters)\n",
    "#     for old_center in old_centroids:\n",
    "#         index = find_nearest(old_center,new_centroids)\n",
    "#         final_centroids[index] = old_center\n",
    "        \n",
    "#     print(final_centroids)    \n",
    "#     return final_centroids\n",
    "        "
   ]
  },
  {
   "cell_type": "code",
   "execution_count": 61,
   "metadata": {},
   "outputs": [],
   "source": [
    "def closest_centroids(old_centroids,new_centroids):\n",
    "    final_centroids = []\n",
    "    for i in range(num_clusters):\n",
    "        final_centroids.append([])\n",
    "        \n",
    "    \n",
    "    for i in range(num_clusters):\n",
    "        min_idx = -1\n",
    "        min_value = 2\n",
    "        for j in range(num_clusters):\n",
    "            diff = abs(old_centroids[i][0] - new_centroids[j][0])\n",
    "            if(diff < min_value):\n",
    "                idx = j\n",
    "                min_value = diff\n",
    "        \n",
    "        print(old_centroids[i][0],\"closest: \", new_centroids[idx][0])\n",
    "        final_centroids[idx] = old_centroids[i]\n",
    "        \n",
    "            \n",
    "        \n",
    "    print(final_centroids)    \n",
    "    return final_centroids"
   ]
  },
  {
   "cell_type": "code",
   "execution_count": 62,
   "metadata": {
    "collapsed": true
   },
   "outputs": [],
   "source": [
    "def find_members(centroids,labels):\n",
    "    #centroids = kmeans.cluster_centers_\n",
    "    #labels = kmeans.labels_\n",
    "\n",
    "    #c = Counter(labels)\n",
    "\n",
    "    clusters = []\n",
    "    for i in range(0,num_clusters):\n",
    "        clusters.append([])\n",
    "\n",
    "    #print(kmeans.cluster_centers_)\n",
    "    for i in range(len(target_scaled)):\n",
    "        #print(\"coordinate:\",X[i], \"label:\", labels[i], \"keyword:\", keywords[i])\n",
    "        clusters[labels[i]].append(target_scaled[i])\n",
    "    print(\"members: \",clusters)    \n",
    "    return clusters"
   ]
  },
  {
   "cell_type": "code",
   "execution_count": 72,
   "metadata": {
    "collapsed": true
   },
   "outputs": [],
   "source": [
    "def cal_gradient(clusters,reframed_centroids,old_alpha,old_beta):\n",
    "    gradient_alpha = 0\n",
    "    gradient_beta = 0\n",
    "    for i in range(0,num_clusters):\n",
    "        gradient = 0\n",
    "        print(reframed_centroids[i])\n",
    "        print(centroids[i])\n",
    "        for member in clusters[i]:\n",
    "            print(\"ghghh\")\n",
    "            print(member[0])\n",
    "            gradient =  (reframed_centroids[i][0] - member[0])\n",
    "            gradient_alpha = gradient_alpha + gradient*reframed_centroids[i][0]\n",
    "            gradient_beta = gradient_beta + gradient\n",
    "\n",
    "#         gradient_alpha = gradient_alpha + gradient*reframed_centroids[i][0]\n",
    "#         gradient_beta = gradient_beta + gradient\n",
    "#         print(clusters[i])\n",
    "#         print(gradient_alpha)\n",
    "#         print(gradient_beta)\n",
    "        print(\"******\")\n",
    "    print(gradient_alpha,gradient_beta)    \n",
    "    new_alpha = old_alpha-1*gradient_alpha\n",
    "    new_beta = old_beta-1*gradient_beta\n",
    "    return [new_alpha,new_beta]"
   ]
  },
  {
   "cell_type": "code",
   "execution_count": 73,
   "metadata": {},
   "outputs": [
    {
     "name": "stdout",
     "output_type": "stream",
     "text": [
      "1.47397372742 1.42\n",
      "1.730016112\n"
     ]
    }
   ],
   "source": [
    "sum_m = 0\n",
    "sum_d = 0\n",
    "for i in range(len(base_centroids)):\n",
    "    sum_m = sum_m + base_centroids[i][0]\n",
    "    \n",
    "avg_m = sum_m/len(base_centroids)\n",
    "\n",
    "for i in range(len(target_scaled)):\n",
    "    sum_d = sum_d + target_scaled[i][0]\n",
    "\n",
    "print(sum_m,sum_d)\n",
    "avg_d = sum_d/len(target_scaled)\n",
    "\n",
    "alpha = avg_m/avg_d\n",
    "beta = 0\n",
    "print(alpha)\n",
    "        \n"
   ]
  },
  {
   "cell_type": "code",
   "execution_count": 74,
   "metadata": {},
   "outputs": [
    {
     "name": "stdout",
     "output_type": "stream",
     "text": [
      "new centroids:  [[ 0.17470606]\n",
      " [ 1.56099155]\n",
      " [ 0.81430069]]\n",
      "[[ 0.105]\n",
      " [ 1.   ]\n",
      " [ 1.   ]]\n",
      "old error:  0.0563\n",
      "members:  [[array([ 0.]), array([ 0.1]), array([ 0.3]), array([ 0.02])], [array([ 1.])], []]\n",
      "0.174706060571 closest:  0.105\n",
      "1.56099154933 closest:  1.0\n",
      "0.814300687199 closest:  1.0\n",
      "[array([ 0.17470606]), array([ 0.81430069]), []]\n",
      "[ 0.17470606]\n",
      "[ 0.105]\n",
      "ghghh\n",
      "0.0\n",
      "ghghh\n",
      "0.1\n",
      "ghghh\n",
      "0.3\n",
      "ghghh\n",
      "0.02\n",
      "******\n",
      "[ 0.81430069]\n",
      "[ 1.]\n",
      "ghghh\n",
      "1.0\n",
      "******\n",
      "[]\n",
      "[ 1.]\n",
      "******\n",
      "-0.102502793065 0.0931249294837\n",
      "new alpha beta 1.83251890506 -0.0931249294837\n",
      "new centroids:  [[ 0.0919324 ]\n",
      " [ 1.56035477]\n",
      " [ 0.76942276]]\n",
      "compare  0.0563 0.0563\n",
      "finalparameters 1.83251890506 -0.0931249294837\n"
     ]
    },
    {
     "name": "stderr",
     "output_type": "stream",
     "text": [
      "/home/tonmoy/anaconda3/lib/python3.6/site-packages/sklearn/cluster/k_means_.py:889: RuntimeWarning: Explicit initial center position passed: performing only one init in k-means instead of n_init=10\n",
      "  return_n_iter=True)\n"
     ]
    }
   ],
   "source": [
    "reframed_centroids =  cal_centroids(alpha,beta)\n",
    "kmeans = KMeans(n_clusters=num_clusters, init=reframed_centroids, max_iter=1)\n",
    "kmeans.fit(target_scaled)\n",
    "old_error = kmeans.inertia_\n",
    "centroids = kmeans.cluster_centers_\n",
    "labels = kmeans.labels_\n",
    "\n",
    "\n",
    "while(1):\n",
    "    print(centroids)\n",
    "    print(\"old error: \",old_error)\n",
    "    \n",
    "    clusters = find_members(centroids,labels)\n",
    "    \n",
    "    reframed_centroids = closest_centroids(reframed_centroids,centroids)\n",
    "    \n",
    "    new_alphabeta = cal_gradient(clusters,reframed_centroids,alpha,beta)\n",
    "    \n",
    "    alpha = new_alphabeta[0]\n",
    "    beta = new_alphabeta[1]\n",
    "    \n",
    "    print(\"new alpha beta\", alpha, beta)\n",
    "    \n",
    "    reframed_centroids =  cal_centroids(alpha,beta)\n",
    "    \n",
    "    kmeans = KMeans(n_clusters=num_clusters, init=reframed_centroids, max_iter=1)\n",
    "    kmeans.fit(target_scaled)\n",
    "    new_error = kmeans.inertia_\n",
    "    \n",
    "    print(\"compare \",old_error,new_error)\n",
    "    if(new_error < old_error):\n",
    "        old_error = new_error\n",
    "                \n",
    "    else:\n",
    "        break; \n",
    "\n",
    "    #base_centroids = kmeans.cluster_centers_\n",
    "    #labels = kmeans.labels_\n",
    "\n",
    "    #print(kmeans.cluster_centers_)\n",
    "    #print(old_error,new_error)\n",
    "    \n",
    "print(\"finalparameters\", alpha,beta)"
   ]
  },
  {
   "cell_type": "code",
   "execution_count": 7,
   "metadata": {},
   "outputs": [
    {
     "name": "stdout",
     "output_type": "stream",
     "text": [
      "0.8143006871988968\n",
      "[1.]\n",
      "1.0\n",
      "[array([1.])]\n",
      "-0.15121507802630121\n",
      "-0.1856993128011032\n",
      "******\n",
      "0.17470606057119187\n",
      "[0.105]\n",
      "0.0\n",
      "0.10000000000000003\n",
      "0.30000000000000004\n",
      "0.020000000000000018\n",
      "[array([0.]), array([0.1]), array([0.3]), array([0.02])]\n",
      "-0.12418699163742009\n",
      "-0.03099325222991134\n",
      "******\n",
      "1.5609915493312188\n",
      "[1.]\n",
      "[]\n",
      "-0.12418699163742009\n",
      "-0.03099325222991134\n",
      "******\n"
     ]
    }
   ],
   "source": [
    "from collections import Counter\n",
    "\n",
    "centroids = kmeans.cluster_centers_\n",
    "labels = kmeans.labels_\n",
    "\n",
    "c = Counter(labels)\n",
    "\n",
    "clusters = []\n",
    "for i in range(0,3):\n",
    "    clusters.append([])\n",
    "    \n",
    "#print(kmeans.cluster_centers_)\n",
    "for i in range(len(target_scaled)):\n",
    "    #print(\"coordinate:\",X[i], \"label:\", labels[i], \"keyword:\", keywords[i])\n",
    "    clusters[labels[i]].append(target_scaled[i])\n",
    "\n",
    "#unscaled_centroids = scaler.inverse_transform(centroids)\n",
    "gradient_alpha = 0\n",
    "gradient_beta = 0\n",
    "for i in range(0,3):\n",
    "    gradient = 0\n",
    "    print(reframed_centroids[i][0])\n",
    "    print(centroids[i])\n",
    "    for member in clusters[i]:\n",
    "        print(member[0])\n",
    "        gradient = reframed_centroids[i][0] - member[0]\n",
    "    \n",
    "    gradient_alpha = gradient_alpha + gradient*reframed_centroids[i][0]\n",
    "    gradient_beta = gradient_beta + gradient\n",
    "    print(clusters[i])\n",
    "    print(gradient_alpha)\n",
    "    print(gradient_beta)\n",
    "    print(\"******\")"
   ]
  },
  {
   "cell_type": "code",
   "execution_count": 8,
   "metadata": {},
   "outputs": [
    {
     "name": "stdout",
     "output_type": "stream",
     "text": [
      "1.8542031036350763 0.03099325222991134\n"
     ]
    }
   ],
   "source": [
    "alpha = alpha-1*gradient_alpha\n",
    "beta = beta-1*gradient_beta\n",
    "print(alpha,beta)"
   ]
  },
  {
   "cell_type": "code",
   "execution_count": 9,
   "metadata": {},
   "outputs": [
    {
     "name": "stdout",
     "output_type": "stream",
     "text": [
      "[[0.90374747]\n",
      " [0.21824036]\n",
      " [1.70403858]]\n",
      "0.03845\n"
     ]
    },
    {
     "name": "stderr",
     "output_type": "stream",
     "text": [
      "c:\\users\\user\\appdata\\local\\programs\\python\\python36-32\\lib\\site-packages\\sklearn\\cluster\\k_means_.py:896: RuntimeWarning: Explicit initial center position passed: performing only one init in k-means instead of n_init=10\n",
      "  return_n_iter=True)\n"
     ]
    }
   ],
   "source": [
    "reframed_centroids =  cal_centroids(alpha,beta)\n",
    "kmeans = KMeans(n_clusters=num_clusters, init=reframed_centroids, max_iter=1)\n",
    "kmeans.fit(target_scaled)\n",
    "old_error = kmeans.inertia_\n",
    "print(old_error)"
   ]
  },
  {
   "cell_type": "code",
   "execution_count": null,
   "metadata": {
    "collapsed": true
   },
   "outputs": [],
   "source": []
  }
 ],
 "metadata": {
  "kernelspec": {
   "display_name": "Python 3",
   "language": "python",
   "name": "python3"
  },
  "language_info": {
   "codemirror_mode": {
    "name": "ipython",
    "version": 3
   },
   "file_extension": ".py",
   "mimetype": "text/x-python",
   "name": "python",
   "nbconvert_exporter": "python",
   "pygments_lexer": "ipython3",
   "version": "3.6.1"
  }
 },
 "nbformat": 4,
 "nbformat_minor": 2
}
