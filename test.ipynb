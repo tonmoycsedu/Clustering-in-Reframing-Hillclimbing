{
 "cells": [
  {
   "cell_type": "code",
   "execution_count": 1,
   "metadata": {},
   "outputs": [
    {
     "name": "stdout",
     "output_type": "stream",
     "text": [
      "[[ 0.1496063 ]\n",
      " [ 0.22834646]\n",
      " [ 0.38582677]\n",
      " [ 0.93700787]\n",
      " [ 0.16535433]]\n"
     ]
    },
    {
     "name": "stderr",
     "output_type": "stream",
     "text": [
      "/home/tonmoy/anaconda3/lib/python3.6/site-packages/sklearn/utils/validation.py:429: DataConversionWarning: Data with input dtype int64 was converted to float64 by MinMaxScaler.\n",
      "  warnings.warn(msg, _DataConversionWarning)\n"
     ]
    }
   ],
   "source": [
    "from sklearn.preprocessing import MinMaxScaler\n",
    "import numpy as np\n",
    "\n",
    "base = np.array([[20],[30],[50],[120],[22],[63],[102],[34],[87],[12],[25],[128],[23],[77],[56]])\n",
    "target = np.array([[50],[70],[110],[250],[54],[136],[214],[78],[184],[34],[60],[266],[56],[166],[122]])\n",
    "#mixed = base\n",
    "#mixed = base.extend(target)\n",
    "mixed = np.concatenate((base,target))\n",
    "\n",
    "scaler = MinMaxScaler()\n",
    "mixed_scaled = scaler.fit_transform(mixed)\n",
    "\n",
    "base_scaled = mixed_scaled[:15]\n",
    "#base_unscaled = scaler.inverse_transform(base_scaled)\n",
    "\n",
    "target_scaled = mixed_scaled[15:20]\n",
    "#target_unscaled = scaler.inverse_transform(target_scaled)\n",
    "#print(mixed)\n",
    "# scaler = MinMaxScaler()\n",
    "# base_scaled = scaler.fit_transform(base)\n",
    "# base_unscaled = scaler.inverse_transform(base_scaled)\n",
    "\n",
    "# target_scaled = scaler.fit_transform(target[:5])\n",
    "# target_unscaled = scaler.inverse_transform(target_scaled)\n",
    "\n",
    "num_clusters = 3\n",
    "num_attr = mixed_scaled[0].size\n",
    "print(target_scaled)"
   ]
  },
  {
   "cell_type": "code",
   "execution_count": 23,
   "metadata": {},
   "outputs": [
    {
     "name": "stdout",
     "output_type": "stream",
     "text": [
      "Normalizer(copy=True, norm='l2')\n",
      "[[ 1.]\n",
      " [ 1.]\n",
      " [ 1.]\n",
      " [ 1.]\n",
      " [ 1.]\n",
      " [ 1.]\n",
      " [ 1.]\n",
      " [ 1.]\n",
      " [ 1.]\n",
      " [ 1.]\n",
      " [ 1.]\n",
      " [ 1.]\n",
      " [ 1.]\n",
      " [ 1.]\n",
      " [ 1.]]\n",
      "****\n",
      "[[ 1.]\n",
      " [ 1.]\n",
      " [ 1.]\n",
      " [ 1.]\n",
      " [ 1.]\n",
      " [ 1.]\n",
      " [ 1.]\n",
      " [ 1.]\n",
      " [ 1.]\n",
      " [ 1.]\n",
      " [ 1.]\n",
      " [ 1.]\n",
      " [ 1.]\n",
      " [ 1.]\n",
      " [ 1.]]\n"
     ]
    },
    {
     "name": "stderr",
     "output_type": "stream",
     "text": [
      "/home/tonmoy/anaconda3/lib/python3.6/site-packages/sklearn/utils/validation.py:429: DataConversionWarning: Data with input dtype int64 was converted to float64 by the normalize function.\n",
      "  warnings.warn(msg, _DataConversionWarning)\n"
     ]
    }
   ],
   "source": [
    "from sklearn import preprocessing\n",
    "import numpy as np\n",
    "\n",
    "base = np.array([[20],[30],[50],[120],[22],[63],[102],[34],[87],[12],[25],[128],[23],[77],[56]])\n",
    "target = np.array([[50],[70],[110],[250],[54],[136],[214],[78],[184],[34],[60],[266],[56],[166],[122]])\n",
    "\n",
    "\n",
    "base_scaled = preprocessing.scale(base)\n",
    "\n",
    "#base_unscaled = scaler.inverse_transform(base_scaled)\n",
    "\n",
    "target_scaled = preprocessing.scale(target)\n",
    "target_scaled = target_scaled[:5]\n",
    "num_clusters = 3\n",
    "num_attr = base_scaled[0].size\n",
    "\n",
    "print(base_scaled)\n",
    "print(\"****\")\n",
    "print(target_scaled)"
   ]
  },
  {
   "cell_type": "code",
   "execution_count": 26,
   "metadata": {},
   "outputs": [
    {
     "name": "stdout",
     "output_type": "stream",
     "text": [
      "[[-0.99062298]\n",
      " [-0.71996096]\n",
      " [-0.17863693]\n",
      " [ 1.71599718]\n",
      " [-0.93649057]\n",
      " [ 0.17322369]\n",
      " [ 1.22880555]\n",
      " [-0.61169615]\n",
      " [ 0.82281253]\n",
      " [-1.20715259]\n",
      " [-0.85529197]\n",
      " [ 1.93252679]\n",
      " [-0.90942437]\n",
      " [ 0.55215051]\n",
      " [-0.01623972]]\n",
      "****\n",
      "[[-0.17863693]\n",
      " [ 0.3626871 ]\n",
      " [ 1.44533516]\n",
      " [ 5.23460338]\n",
      " [-0.07037212]]\n"
     ]
    },
    {
     "name": "stderr",
     "output_type": "stream",
     "text": [
      "/home/tonmoy/anaconda3/lib/python3.6/site-packages/sklearn/utils/validation.py:429: DataConversionWarning: Data with input dtype int64 was converted to float64 by StandardScaler.\n",
      "  warnings.warn(msg, _DataConversionWarning)\n"
     ]
    }
   ],
   "source": [
    "from sklearn import preprocessing\n",
    "import numpy as np\n",
    "\n",
    "base = np.array([[20],[30],[50],[120],[22],[63],[102],[34],[87],[12],[25],[128],[23],[77],[56]])\n",
    "target = np.array([[50],[70],[110],[250],[54],[136],[214],[78],[184],[34],[60],[266],[56],[166],[122]])\n",
    "\n",
    "\n",
    "scaler = preprocessing.StandardScaler().fit(base)\n",
    "\n",
    "base_scaled = scaler.transform(base)\n",
    "\n",
    "#base_unscaled = scaler.inverse_transform(base_scaled)\n",
    "\n",
    "target_scaled = scaler.transform(target)\n",
    "target_scaled = target_scaled[:5]\n",
    "num_clusters = 3\n",
    "num_attr = base_scaled[0].size\n",
    "\n",
    "print(base_scaled)\n",
    "print(\"****\")\n",
    "print(target_scaled)"
   ]
  },
  {
   "cell_type": "code",
   "execution_count": 27,
   "metadata": {},
   "outputs": [
    {
     "name": "stdout",
     "output_type": "stream",
     "text": [
      "[[ 0.27066202]\n",
      " [ 1.62577651]\n",
      " [-0.89009137]]\n",
      "1.15842410339\n"
     ]
    }
   ],
   "source": [
    "\n",
    "from sklearn.cluster import KMeans\n",
    "\n",
    "kmeans = KMeans(n_clusters=num_clusters)\n",
    "kmeans.fit(base_scaled)\n",
    "\n",
    "base_centroids = kmeans.cluster_centers_\n",
    "#labels = kmeans.labels_\n",
    "    \n",
    "print(kmeans.cluster_centers_)\n",
    "print(kmeans.inertia_)"
   ]
  },
  {
   "cell_type": "code",
   "execution_count": 28,
   "metadata": {
    "collapsed": true
   },
   "outputs": [],
   "source": [
    "def cal_centroids(alpha,beta):\n",
    "\n",
    "    target_centroids = []\n",
    "    for i in range(num_clusters):\n",
    "        val = []\n",
    "        for j in range(num_attr):\n",
    "            val.append(alpha[j]*base_centroids[i][j] + beta[j])\n",
    "        \n",
    "        target_centroids.append(val)\n",
    "             \n",
    "\n",
    "    target_centroids = np.array(target_centroids)\n",
    "    print(\"new centroids: \", target_centroids)\n",
    "    return target_centroids\n",
    "    #print(target_centroids)"
   ]
  },
  {
   "cell_type": "code",
   "execution_count": 29,
   "metadata": {
    "collapsed": true
   },
   "outputs": [],
   "source": [
    "def kmeans(k,dataItems,centroids,maxIter,num_attr):\n",
    "    \n",
    "    #print(k,dataItems,centroids,maxInter,num_attr)\n",
    "    old_centroids = []\n",
    "    groups = []\n",
    "    \n",
    "    for i in range(k):\n",
    "        groups.append([])\n",
    "        \n",
    "    iter = 0\n",
    "    while(iter < maxIter):\n",
    "        old_centroids = centroids\n",
    "        for item in dataItems:\n",
    "            row = []\n",
    "            for centroid in centroids:\n",
    "                diff = 0\n",
    "                for i in range(num_attr):\n",
    "                    diff += abs(item[i] - centroid[i])\n",
    "                    \n",
    "                row.append(diff)\n",
    "                \n",
    "            idx = row.index(min(row))\n",
    "            groups[idx].append(item)\n",
    "                    \n",
    "            \n",
    "        iter += 1\n",
    "        \n",
    "    ss = 0    \n",
    "    for i in range(k):\n",
    "        for item in groups[i]:\n",
    "            for j in range(num_attr):\n",
    "            \n",
    "                diff = abs(item[j]- old_centroids[i][j])\n",
    "                ss += pow(diff,2)\n",
    "            \n",
    "        \n",
    "    return (groups,ss/2)\n",
    "        "
   ]
  },
  {
   "cell_type": "code",
   "execution_count": 30,
   "metadata": {
    "collapsed": true
   },
   "outputs": [],
   "source": [
    "def cal_gradient(clusters,reframed_centroids,old_alpha,old_beta):\n",
    "    \n",
    "    gradient_alpha = []\n",
    "    gradient_beta = []\n",
    "    gradient = 0\n",
    "    \n",
    "    for i in range(num_attr):\n",
    "        gradient_alpha.append(0)\n",
    "        gradient_beta.append(0)\n",
    "        \n",
    "    \n",
    "    for i in range(num_clusters):\n",
    "                \n",
    "        for member in clusters[i]:\n",
    "                      \n",
    "            for j in range(num_attr):\n",
    "                \n",
    "                gradient =  (reframed_centroids[i][j] - member[j])\n",
    "                gradient_alpha[j] = gradient_alpha[j] + gradient*reframed_centroids[i][j]\n",
    "                gradient_beta[j] = gradient_beta[j] + gradient\n",
    "\n",
    "    print(\"******\")\n",
    "    #print(gradient_alpha,gradient_beta)\n",
    "    \n",
    "    new_alpha = []\n",
    "    new_beta = []\n",
    "    \n",
    "    for i in range(num_attr):       \n",
    "        new_alpha.append(old_alpha[i]-.1*gradient_alpha[i])\n",
    "        new_beta.append(old_beta[i]-.1*gradient_beta[i])\n",
    "        \n",
    "    return [new_alpha,new_beta]"
   ]
  },
  {
   "cell_type": "code",
   "execution_count": 31,
   "metadata": {},
   "outputs": [
    {
     "name": "stdout",
     "output_type": "stream",
     "text": [
      "[0.24688547397710736] [0]\n"
     ]
    }
   ],
   "source": [
    "alpha = []\n",
    "beta = []\n",
    "avg_m = []\n",
    "avg_d = []\n",
    "sum_d = 0\n",
    "for i in range(num_attr):\n",
    "    sum_m = 0\n",
    "    for j in range(num_clusters):\n",
    "        sum_m = sum_m + base_centroids[j][i]\n",
    "        \n",
    "    avg_m.append(sum_m/num_clusters)\n",
    "    \n",
    "\n",
    "for i in range(num_attr):\n",
    "    sum_d = 0\n",
    "    for j in range(len(target_scaled)):\n",
    "        sum_d = sum_d + target_scaled[j][i]\n",
    "        \n",
    "    avg_d.append(sum_d/len(target_scaled))\n",
    "    \n",
    "\n",
    "for i in range(num_attr):\n",
    "    alpha.append(avg_m[i]/avg_d[i])\n",
    "    beta.append(0)\n",
    "\n",
    "print(alpha,beta)\n",
    "        \n"
   ]
  },
  {
   "cell_type": "code",
   "execution_count": 32,
   "metadata": {},
   "outputs": [
    {
     "name": "stdout",
     "output_type": "stream",
     "text": [
      "new centroids:  [[ 0.06682252]\n",
      " [ 0.4013806 ]\n",
      " [-0.21975063]]\n",
      "best error:  12.2359466899\n",
      "******\n",
      "new alpha beta [0.47941064462222993] [0.57424028839812802]\n",
      "new centroids:  [[ 0.70399854]\n",
      " [ 1.35365485]\n",
      " [ 0.14752101]]\n",
      "compare  12.2359466899 7.63515979818\n",
      "best error:  7.63515979818\n",
      "******\n",
      "new alpha beta [1.0123157293615539] [0.93861467332664672]\n",
      "new centroids:  [[ 1.21261009]\n",
      " [ 2.5844138 ]\n",
      " [ 0.03756118]]\n",
      "compare  7.63515979818 3.62088190988\n",
      "best error:  3.62088190988\n",
      "******\n",
      "new alpha beta [1.7254585930744577] [1.2270055889812788]\n",
      "new centroids:  [[ 1.69402169]\n",
      " [ 4.03221563]\n",
      " [-0.30881021]]\n",
      "compare  3.62088190988 1.01614386477\n",
      "best error:  1.01614386477\n",
      "******\n",
      "new alpha beta [2.1360396031660613] [1.4263865797003876]\n",
      "new centroids:  [[ 2.00453136]\n",
      " [ 4.89910958]\n",
      " [-0.47488384]]\n",
      "compare  1.01614386477 0.689086755602\n",
      "best error:  0.689086755602\n",
      "******\n",
      "new alpha beta [2.1152562727236162] [1.5578492948914475]\n",
      "new centroids:  [[ 2.13036882]\n",
      " [ 4.99678325]\n",
      " [-0.32492206]]\n",
      "compare  0.689086755602 0.542415446588\n",
      "best error:  0.542415446588\n",
      "******\n",
      "new alpha beta [2.0527864481728946] [1.62197236440882]\n",
      "new centroids:  [[ 2.17758368]\n",
      " [ 4.95934434]\n",
      " [-0.20519514]]\n",
      "compare  0.542415446588 0.476664125316\n",
      "best error:  0.476664125316\n",
      "******\n",
      "new alpha beta [2.0148795068314063] [1.649199761811718]\n",
      "new centroids:  [[ 2.19455111]\n",
      " [ 4.92494352]\n",
      " [-0.1442271 ]]\n",
      "compare  0.476664125316 0.460407179879\n",
      "best error:  0.460407179879\n",
      "******\n",
      "new alpha beta [1.9950859831423919] [1.6598800864801764]\n",
      "new centroids:  [[ 2.19987408]\n",
      " [ 4.903444  ]\n",
      " [-0.11592873]]\n",
      "compare  0.460407179879 0.457038171913\n",
      "best error:  0.457038171913\n",
      "******\n",
      "new alpha beta [1.9861293697619706] [1.6636885555055816]\n",
      "new centroids:  [[ 2.20125833]\n",
      " [ 4.89269102]\n",
      " [-0.10414806]]\n",
      "compare  0.457038171913 0.456474184766\n",
      "best error:  0.456474184766\n",
      "******\n",
      "new alpha beta [1.9825803222078795] [1.6648996953980411]\n",
      "new centroids:  [[ 2.20150888]\n",
      " [ 4.8881322 ]\n",
      " [-0.09977794]]\n",
      "compare  0.456474184766 0.456399161676\n",
      "best error:  0.456399161676\n",
      "******\n",
      "new alpha beta [1.9813467486584608] [1.6652306274133641]\n",
      "new centroids:  [[ 2.20150593]\n",
      " [ 4.88645762]\n",
      " [-0.09834901]]\n",
      "compare  0.456399161676 0.456391427845\n",
      "best error:  0.456391427845\n",
      "******\n",
      "new alpha beta [1.980975482151488] [1.665300635109445]\n",
      "new centroids:  [[ 2.20147545]\n",
      " [ 4.88592403]\n",
      " [-0.09794855]]\n",
      "compare  0.456391427845 0.456390848091\n",
      "best error:  0.456390848091\n",
      "******\n",
      "new alpha beta [1.9808834970364766] [1.6653069090338268]\n",
      "new centroids:  [[ 2.20145683]\n",
      " [ 4.88578076]\n",
      " [-0.0978604 ]]\n",
      "compare  0.456390848091 0.456390822226\n",
      "best error:  0.456390822226\n",
      "******\n",
      "new alpha beta [1.980868204571264] [1.6653029278604403]\n",
      "new centroids:  [[ 2.20144871]\n",
      " [ 4.88575191]\n",
      " [-0.09785077]]\n",
      "compare  0.456390822226 0.456390821986\n",
      "best error:  0.456390821986\n",
      "******\n",
      "new alpha beta [1.9808690746518485] [1.6652997538883625]\n",
      "new centroids:  [[ 2.20144577]\n",
      " [ 4.88575015]\n",
      " [-0.09785471]]\n",
      "compare  0.456390821986 0.456390821888\n",
      "best error:  0.456390821888\n",
      "******\n",
      "new alpha beta [1.9808713353293028] [1.665298234232256]\n",
      "new centroids:  [[ 2.20144486]\n",
      " [ 4.88575231]\n",
      " [-0.09785825]]\n",
      "compare  0.456390821888 0.456390821832\n",
      "best error:  0.456390821832\n",
      "******\n",
      "new alpha beta [1.9808726389481774] [1.6652976493434699]\n",
      "new centroids:  [[ 2.20144463]\n",
      " [ 4.88575385]\n",
      " [-0.09785999]]\n",
      "compare  0.456390821832 0.456390821819\n",
      "best error:  0.456390821819\n",
      "******\n",
      "new alpha beta [1.9808731926957484] [1.6652974577777451]\n",
      "new centroids:  [[ 2.20144459]\n",
      " [ 4.88575455]\n",
      " [-0.09786068]]\n",
      "compare  0.456390821819 0.456390821817\n",
      "best error:  0.456390821817\n",
      "******\n",
      "new alpha beta [1.9808733892711434] [1.6652974048458404]\n",
      "new centroids:  [[ 2.20144459]\n",
      " [ 4.88575482]\n",
      " [-0.0978609 ]]\n",
      "compare  0.456390821817 0.456390821817\n",
      "best error:  0.456390821817\n",
      "******\n",
      "new alpha beta [1.9808734488140693] [1.6652973935915918]\n",
      "new centroids:  [[ 2.20144459]\n",
      " [ 4.88575491]\n",
      " [-0.09786097]]\n",
      "compare  0.456390821817 0.456390821817\n",
      "best error:  0.456390821817\n",
      "******\n",
      "new alpha beta [1.9808734636030905] [1.6652973925721108]\n",
      "new centroids:  [[ 2.2014446 ]\n",
      " [ 4.88575493]\n",
      " [-0.09786098]]\n",
      "compare  0.456390821817 0.456390821817\n",
      "best error:  0.456390821817\n",
      "******\n",
      "new alpha beta [1.980873466069913] [1.6652973932067976]\n",
      "new centroids:  [[ 2.2014446 ]\n",
      " [ 4.88575493]\n",
      " [-0.09786098]]\n",
      "compare  0.456390821817 0.456390821817\n",
      "finalparameters [1.9808734636030905] [1.6652973925721108]\n"
     ]
    }
   ],
   "source": [
    "reframed_centroids =  cal_centroids(alpha,beta)\n",
    "km = kmeans(num_clusters, target_scaled, reframed_centroids, 1, 1)\n",
    "#kmeans.fit(target_scaled)\n",
    "best_error = km[1]\n",
    "#centroids = kmeans.cluster_centers_\n",
    "#labels = kmeans.labels_\n",
    "\n",
    "count = 0\n",
    "best_alpha = alpha\n",
    "best_beta = beta\n",
    "while(1):\n",
    "    #print(centroids)\n",
    "    print(\"best error: \",best_error)\n",
    "    \n",
    "    #clusters = find_members(centroids,labels)\n",
    "    \n",
    "    #reframed_centroids = closest_centroids(reframed_centroids,centroids)\n",
    "    \n",
    "    new_alphabeta = cal_gradient(km[0],reframed_centroids,alpha,beta)\n",
    "    \n",
    "    alpha = new_alphabeta[0]\n",
    "    beta = new_alphabeta[1]\n",
    "    \n",
    "    print(\"new alpha beta\", alpha, beta)\n",
    "    \n",
    "    reframed_centroids =  cal_centroids(alpha,beta)\n",
    "    \n",
    "    km = kmeans(num_clusters, target_scaled, reframed_centroids, 1, 1)\n",
    "    #kmeans.fit(target_scaled)\n",
    "    new_error = km[1]\n",
    "    \n",
    "    print(\"compare \",best_error,new_error)\n",
    "    if(new_error < best_error):\n",
    "        best_alpha = alpha\n",
    "        best_beta = beta\n",
    "        best_error = new_error\n",
    "        count = 0\n",
    "        \n",
    "    elif(new_error == best_error):\n",
    "        if(count<5):\n",
    "            count += 1\n",
    "            continue\n",
    "        else:\n",
    "            break;\n",
    "                \n",
    "    else:\n",
    "        break; \n",
    "\n",
    "    #base_centroids = kmeans.cluster_centers_\n",
    "    #labels = kmeans.labels_\n",
    "\n",
    "    #print(kmeans.cluster_centers_)\n",
    "    #print(old_error,new_error)\n",
    "    \n",
    "print(\"finalparameters\", best_alpha,best_beta)"
   ]
  },
  {
   "cell_type": "code",
   "execution_count": 33,
   "metadata": {},
   "outputs": [
    {
     "name": "stdout",
     "output_type": "stream",
     "text": [
      "new centroids:  [[ 2.2014446 ]\n",
      " [ 4.88575493]\n",
      " [-0.09786098]]\n"
     ]
    }
   ],
   "source": [
    "target_cent = cal_centroids(best_alpha,best_beta)"
   ]
  },
  {
   "cell_type": "code",
   "execution_count": 34,
   "metadata": {},
   "outputs": [
    {
     "name": "stderr",
     "output_type": "stream",
     "text": [
      "/home/tonmoy/anaconda3/lib/python3.6/site-packages/sklearn/utils/validation.py:429: DataConversionWarning: Data with input dtype int64 was converted to float64 by StandardScaler.\n",
      "  warnings.warn(msg, _DataConversionWarning)\n"
     ]
    }
   ],
   "source": [
    "target_scaled = scaler.transform(target)\n",
    "# base_unscaled = scaler.inverse_transform(base_scaled)\n",
    "# target_unscaled = scaler.inverse_transform(target_sc)\n",
    "# print(target_sc)\n",
    "# print(base_scaled)\n",
    "# print(base_unscaled)\n",
    "# print(target_unscaled)"
   ]
  },
  {
   "cell_type": "code",
   "execution_count": 35,
   "metadata": {},
   "outputs": [
    {
     "name": "stdout",
     "output_type": "stream",
     "text": [
      "4.69699126207\n"
     ]
    },
    {
     "name": "stderr",
     "output_type": "stream",
     "text": [
      "/home/tonmoy/anaconda3/lib/python3.6/site-packages/sklearn/cluster/k_means_.py:889: RuntimeWarning: Explicit initial center position passed: performing only one init in k-means instead of n_init=10\n",
      "  return_n_iter=True)\n"
     ]
    }
   ],
   "source": [
    "kmeans = KMeans(n_clusters=num_clusters, init=target_cent, max_iter=1)\n",
    "kmeans.fit(target_scaled)\n",
    "print(kmeans.inertia_)"
   ]
  },
  {
   "cell_type": "code",
   "execution_count": 36,
   "metadata": {},
   "outputs": [
    {
     "name": "stdout",
     "output_type": "stream",
     "text": [
      "15.9327036408\n"
     ]
    },
    {
     "name": "stderr",
     "output_type": "stream",
     "text": [
      "/home/tonmoy/anaconda3/lib/python3.6/site-packages/sklearn/cluster/k_means_.py:889: RuntimeWarning: Explicit initial center position passed: performing only one init in k-means instead of n_init=10\n",
      "  return_n_iter=True)\n"
     ]
    }
   ],
   "source": [
    "kmeans = KMeans(n_clusters=num_clusters, init=base_centroids, max_iter=1)\n",
    "kmeans.fit(target_scaled)\n",
    "print(kmeans.inertia_)"
   ]
  },
  {
   "cell_type": "code",
   "execution_count": null,
   "metadata": {
    "collapsed": true
   },
   "outputs": [],
   "source": []
  }
 ],
 "metadata": {
  "kernelspec": {
   "display_name": "Python 3",
   "language": "python",
   "name": "python3"
  },
  "language_info": {
   "codemirror_mode": {
    "name": "ipython",
    "version": 3
   },
   "file_extension": ".py",
   "mimetype": "text/x-python",
   "name": "python",
   "nbconvert_exporter": "python",
   "pygments_lexer": "ipython3",
   "version": "3.6.1"
  }
 },
 "nbformat": 4,
 "nbformat_minor": 2
}
